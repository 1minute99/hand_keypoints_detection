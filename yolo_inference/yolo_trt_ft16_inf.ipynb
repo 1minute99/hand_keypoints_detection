{
 "cells": [
  {
   "cell_type": "code",
   "execution_count": 2,
   "metadata": {},
   "outputs": [
    {
     "name": "stdout",
     "output_type": "stream",
     "text": [
      "crw-rw----+ 1 root video 81, 1 Aug 28 09:18 /dev/video1\n",
      "crw-rw----+ 1 root video 81, 0 Aug 28 09:18 /dev/video0\n"
     ]
    }
   ],
   "source": [
    "# Check device number\n",
    "!ls -ltrh /dev/video*"
   ]
  },
  {
   "cell_type": "code",
   "execution_count": 2,
   "metadata": {},
   "outputs": [
    {
     "name": "stdout",
     "output_type": "stream",
     "text": [
      "2.8.0 cuda: True\n",
      "WARNING ⚠️ TensorRT requires GPU export, automatically assigning device=0\n",
      "Ultralytics 8.3.187 🚀 Python-3.10.12 torch-2.8.0 CUDA:0 (Orin, 7620MiB)\n",
      "YOLO11n-pose summary (fused): 109 layers, 2,956,000 parameters, 0 gradients, 7.8 GFLOPs\n",
      "\n",
      "\u001b[34m\u001b[1mPyTorch:\u001b[0m starting from 'yolo.pt' with input shape (1, 3, 640, 640) BCHW and output shape(s) (1, 68, 8400) (6.0 MB)\n",
      "\u001b[31m\u001b[1mrequirements:\u001b[0m Ultralytics requirement ['onnxruntime-gpu'] not found, attempting AutoUpdate...\n"
     ]
    },
    {
     "name": "stderr",
     "output_type": "stream",
     "text": [
      "\u001b[31mERROR: Could not find a version that satisfies the requirement onnxruntime-gpu (from versions: none)\u001b[0m\u001b[31m\n",
      "\u001b[0m"
     ]
    },
    {
     "name": "stdout",
     "output_type": "stream",
     "text": [
      "WARNING ⚠️ Retry 1/2 failed: Command 'pip install --no-cache-dir \"onnxruntime-gpu\" ' returned non-zero exit status 1.\n"
     ]
    },
    {
     "name": "stderr",
     "output_type": "stream",
     "text": [
      "\u001b[31mERROR: No matching distribution found for onnxruntime-gpu\u001b[0m\u001b[31m\n",
      "\u001b[0m\u001b[31mERROR: Could not find a version that satisfies the requirement onnxruntime-gpu (from versions: none)\u001b[0m\u001b[31m\n",
      "\u001b[0m"
     ]
    },
    {
     "name": "stdout",
     "output_type": "stream",
     "text": [
      "WARNING ⚠️ Retry 2/2 failed: Command 'pip install --no-cache-dir \"onnxruntime-gpu\" ' returned non-zero exit status 1.\n",
      "WARNING ⚠️ \u001b[31m\u001b[1mrequirements:\u001b[0m ❌ Command 'pip install --no-cache-dir \"onnxruntime-gpu\" ' returned non-zero exit status 1.\n"
     ]
    },
    {
     "name": "stderr",
     "output_type": "stream",
     "text": [
      "\u001b[31mERROR: No matching distribution found for onnxruntime-gpu\u001b[0m\u001b[31m\n",
      "\u001b[0m"
     ]
    },
    {
     "name": "stdout",
     "output_type": "stream",
     "text": [
      "\n",
      "\u001b[34m\u001b[1mONNX:\u001b[0m starting export with onnx 1.12.0 opset 19...\n",
      "\u001b[34m\u001b[1mONNX:\u001b[0m slimming with onnxslim 0.1.59...\n",
      "WARNING ⚠️ \u001b[34m\u001b[1mONNX:\u001b[0m simplifier failure: module 'onnx.helper' has no attribute 'get_all_tensor_dtypes'\n",
      "\u001b[34m\u001b[1mONNX:\u001b[0m export success ✅ 8.5s, saved as 'yolo.onnx' (11.6 MB)\n",
      "\n",
      "\u001b[34m\u001b[1mTensorRT:\u001b[0m starting export with TensorRT 10.3.0...\n",
      "[08/28/2025-07:41:07] [TRT] [I] [MemUsageChange] Init CUDA: CPU +1, GPU +0, now: CPU 749, GPU 4495 (MiB)\n",
      "[08/28/2025-07:41:10] [TRT] [I] [MemUsageChange] Init builder kernel library: CPU +928, GPU +696, now: CPU 1720, GPU 5226 (MiB)\n",
      "[08/28/2025-07:41:10] [TRT] [I] ----------------------------------------------------------------\n",
      "[08/28/2025-07:41:10] [TRT] [I] Input filename:   yolo.onnx\n",
      "[08/28/2025-07:41:10] [TRT] [I] ONNX IR version:  0.0.9\n",
      "[08/28/2025-07:41:10] [TRT] [I] Opset version:    19\n",
      "[08/28/2025-07:41:10] [TRT] [I] Producer name:    pytorch\n",
      "[08/28/2025-07:41:10] [TRT] [I] Producer version: 2.8.0\n",
      "[08/28/2025-07:41:10] [TRT] [I] Domain:           \n",
      "[08/28/2025-07:41:10] [TRT] [I] Model version:    0\n",
      "[08/28/2025-07:41:10] [TRT] [I] Doc string:       \n",
      "[08/28/2025-07:41:10] [TRT] [I] ----------------------------------------------------------------\n",
      "\u001b[34m\u001b[1mTensorRT:\u001b[0m input \"images\" with shape(1, 3, 640, 640) DataType.FLOAT\n",
      "\u001b[34m\u001b[1mTensorRT:\u001b[0m output \"output0\" with shape(1, 68, 8400) DataType.FLOAT\n",
      "\u001b[34m\u001b[1mTensorRT:\u001b[0m building FP16 engine as yolo.engine\n",
      "[08/28/2025-07:41:10] [TRT] [I] Local timing cache in use. Profiling results in this builder pass will not be stored.\n",
      "[08/28/2025-07:52:27] [TRT] [I] Detected 1 inputs and 4 output network tensors.\n",
      "[08/28/2025-07:52:34] [TRT] [I] Total Host Persistent Memory: 579584\n",
      "[08/28/2025-07:52:34] [TRT] [I] Total Device Persistent Memory: 0\n",
      "[08/28/2025-07:52:34] [TRT] [I] Total Scratch Memory: 1382400\n",
      "[08/28/2025-07:52:34] [TRT] [I] [BlockAssignment] Started assigning block shifts. This will take 182 steps to complete.\n",
      "[08/28/2025-07:52:34] [TRT] [I] [BlockAssignment] Algorithm ShiftNTopDown took 33.3731ms to assign 10 blocks to 182 nodes requiring 10889728 bytes.\n",
      "[08/28/2025-07:52:34] [TRT] [I] Total Activation Memory: 10889216\n",
      "[08/28/2025-07:52:34] [TRT] [I] Total Weights Memory: 6051204\n",
      "[08/28/2025-07:52:35] [TRT] [I] Engine generation completed in 684.519 seconds.\n",
      "[08/28/2025-07:52:35] [TRT] [I] [MemUsageStats] Peak memory usage of TRT CPU/GPU memory allocators: CPU 0 MiB, GPU 132 MiB\n",
      "[08/28/2025-07:52:35] [TRT] [I] [MemUsageStats] Peak memory usage during Engine building and serialization: CPU: 2728 MiB\n",
      "\u001b[34m\u001b[1mTensorRT:\u001b[0m export success ✅ 697.0s, saved as 'yolo.engine' (9.1 MB)\n",
      "\n",
      "Export complete (698.9s)\n",
      "Results saved to \u001b[1m/home/wonmin/project/hand_keypoints\u001b[0m\n",
      "Predict:         yolo predict task=pose model=yolo.engine imgsz=640 half \n",
      "Validate:        yolo val task=pose model=yolo.engine imgsz=640 data=/usr/local/lib/python3.11/dist-packages/ultralytics/cfg/datasets/hand-keypoints.yaml half \n",
      "Visualize:       https://netron.app\n"
     ]
    }
   ],
   "source": [
    "from ultralytics import YOLO\n",
    "import torch\n",
    "import os\n",
    "\n",
    "print(torch.__version__, \"cuda:\", torch.cuda.is_available())\n",
    "\n",
    "#make ft16 tensorrt file\n",
    "model = YOLO(\"yolo.pt\", task=\"pose\")    # 또는 task=\"detect\"\n",
    "\n",
    "model.export(format=\"engine\", half = True)\n",
    "\n",
    "os.rename(\"yolo.engine\", \"yolo_fp16.engine\")\n",
    "os.rename(\"yolo.onnx\", \"yolo_fp16.engine\")\n"
   ]
  },
  {
   "cell_type": "code",
   "execution_count": 3,
   "metadata": {},
   "outputs": [
    {
     "name": "stdout",
     "output_type": "stream",
     "text": [
      " * Serving Flask app '__main__'\n",
      " * Debug mode: off\n"
     ]
    },
    {
     "name": "stderr",
     "output_type": "stream",
     "text": [
      "WARNING: This is a development server. Do not use it in a production deployment. Use a production WSGI server instead.\n",
      " * Running on all addresses (0.0.0.0)\n",
      " * Running on http://127.0.0.1:8000\n",
      " * Running on http://172.30.1.50:8000\n",
      "Press CTRL+C to quit\n"
     ]
    },
    {
     "name": "stdout",
     "output_type": "stream",
     "text": [
      "Loading yolo_fp16.engine for TensorRT inference...\n",
      "[08/28/2025-09:18:24] [TRT] [I] Loaded engine size: 9 MiB\n",
      "[08/28/2025-09:18:24] [TRT] [I] [MemUsageChange] TensorRT-managed allocation in IExecutionContext creation: CPU +0, GPU +11, now: CPU 0, GPU 16 (MiB)\n"
     ]
    },
    {
     "name": "stderr",
     "output_type": "stream",
     "text": [
      "172.30.1.93 - - [28/Aug/2025 09:18:29] \"GET / HTTP/1.1\" 200 -\n"
     ]
    }
   ],
   "source": [
    "from flask import Flask, Response\n",
    "from ultralytics import YOLO\n",
    "import cv2\n",
    "\n",
    "# YOLO 모델 불러오기 (best.pt or .engine 가능)\n",
    "model = YOLO(\"yolo_fp16.engine\", task=\"pose\")\n",
    "\n",
    "c_index = 0 #Camera index can be changed\n",
    "\n",
    "cap = cv2.VideoCapture(c_index) \n",
    "assert cap.isOpened(), \"Camera open failed.\"\n",
    "\n",
    "app = Flask(__name__)\n",
    "\n",
    "def gen_frames():\n",
    "    while True:\n",
    "        ret, frame = cap.read() \n",
    "        if not ret:\n",
    "            break\n",
    "\n",
    "        # YOLO inference\n",
    "        results = model.predict(source=frame, imgsz=640,verbose=False)\n",
    "        annotated = results[0].plot()  # draw inference results\n",
    "\n",
    "        # JPEG encoding\n",
    "        ret, buffer = cv2.imencode('.jpg', annotated)\n",
    "        if not ret:\n",
    "            continue #If encoding is failed, skip\n",
    "\n",
    "        # MJPEG streaming: MJPEG = Motion JPEG\n",
    "        yield (b'--frame\\r\\n'\n",
    "               b'Content-Type: image/jpeg\\r\\n\\r\\n' + buffer.tobytes() + b'\\r\\n')\n",
    "\n",
    "@app.route('/')\n",
    "def video_feed():\n",
    "    return Response(gen_frames(), mimetype='multipart/x-mixed-replace; boundary=frame')\n",
    "\n",
    "if __name__ == \"__main__\":\n",
    "    try:\n",
    "        app.run(host=\"0.0.0.0\", port=8000, debug=False, use_reloader=False)\n",
    "    finally:\n",
    "        cap.release()\n",
    "        cv2.destroyAllWindows()\n"
   ]
  },
  {
   "cell_type": "code",
   "execution_count": null,
   "metadata": {},
   "outputs": [],
   "source": []
  },
  {
   "cell_type": "code",
   "execution_count": null,
   "metadata": {},
   "outputs": [],
   "source": []
  }
 ],
 "metadata": {
  "kernelspec": {
   "display_name": "venv",
   "language": "python",
   "name": "python3"
  },
  "language_info": {
   "codemirror_mode": {
    "name": "ipython",
    "version": 3
   },
   "file_extension": ".py",
   "mimetype": "text/x-python",
   "name": "python",
   "nbconvert_exporter": "python",
   "pygments_lexer": "ipython3",
   "version": "3.10.12"
  }
 },
 "nbformat": 4,
 "nbformat_minor": 2
}
