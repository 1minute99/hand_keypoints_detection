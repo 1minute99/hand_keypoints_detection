{
 "cells": [
  {
   "cell_type": "code",
   "execution_count": 1,
   "metadata": {},
   "outputs": [
    {
     "name": "stdout",
     "output_type": "stream",
     "text": [
      "crw-rw----+ 1 root video 81, 1 Aug 28 16:18 /dev/video1\n",
      "crw-rw----+ 1 root video 81, 2 Aug 28 16:18 /dev/video2\n"
     ]
    }
   ],
   "source": [
    "# Check device number\n",
    "!ls -ltrh /dev/video*"
   ]
  },
  {
   "cell_type": "code",
   "execution_count": 2,
   "metadata": {},
   "outputs": [
    {
     "name": "stdout",
     "output_type": "stream",
     "text": [
      "2.8.0 cuda: True\n",
      "WARNING ⚠️ TensorRT requires GPU export, automatically assigning device=0\n",
      "Ultralytics 8.3.187 🚀 Python-3.10.12 torch-2.8.0 CUDA:0 (Orin, 7620MiB)\n",
      "YOLO11n-pose summary (fused): 109 layers, 2,956,000 parameters, 0 gradients, 7.8 GFLOPs\n",
      "\n",
      "\u001b[34m\u001b[1mPyTorch:\u001b[0m starting from 'yolo.pt' with input shape (1, 3, 640, 640) BCHW and output shape(s) (1, 68, 8400) (6.0 MB)\n",
      "\u001b[31m\u001b[1mrequirements:\u001b[0m Ultralytics requirement ['onnxruntime-gpu'] not found, attempting AutoUpdate...\n"
     ]
    },
    {
     "name": "stderr",
     "output_type": "stream",
     "text": [
      "\u001b[31mERROR: Could not find a version that satisfies the requirement onnxruntime-gpu (from versions: none)\u001b[0m\u001b[31m\n",
      "\u001b[0m"
     ]
    },
    {
     "name": "stdout",
     "output_type": "stream",
     "text": [
      "WARNING ⚠️ Retry 1/2 failed: Command 'pip install --no-cache-dir \"onnxruntime-gpu\" ' returned non-zero exit status 1.\n"
     ]
    },
    {
     "name": "stderr",
     "output_type": "stream",
     "text": [
      "\u001b[31mERROR: No matching distribution found for onnxruntime-gpu\u001b[0m\u001b[31m\n",
      "\u001b[0m\u001b[31mERROR: Could not find a version that satisfies the requirement onnxruntime-gpu (from versions: none)\u001b[0m\u001b[31m\n",
      "\u001b[0m"
     ]
    },
    {
     "name": "stdout",
     "output_type": "stream",
     "text": [
      "WARNING ⚠️ Retry 2/2 failed: Command 'pip install --no-cache-dir \"onnxruntime-gpu\" ' returned non-zero exit status 1.\n",
      "WARNING ⚠️ \u001b[31m\u001b[1mrequirements:\u001b[0m ❌ Command 'pip install --no-cache-dir \"onnxruntime-gpu\" ' returned non-zero exit status 1.\n"
     ]
    },
    {
     "name": "stderr",
     "output_type": "stream",
     "text": [
      "\u001b[31mERROR: No matching distribution found for onnxruntime-gpu\u001b[0m\u001b[31m\n",
      "\u001b[0m"
     ]
    },
    {
     "name": "stdout",
     "output_type": "stream",
     "text": [
      "\n",
      "\u001b[34m\u001b[1mONNX:\u001b[0m starting export with onnx 1.12.0 opset 19...\n",
      "\u001b[34m\u001b[1mONNX:\u001b[0m slimming with onnxslim 0.1.59...\n",
      "WARNING ⚠️ \u001b[34m\u001b[1mONNX:\u001b[0m simplifier failure: module 'onnx.helper' has no attribute 'get_all_tensor_dtypes'\n",
      "\u001b[34m\u001b[1mONNX:\u001b[0m export success ✅ 8.2s, saved as 'yolo.onnx' (11.6 MB)\n",
      "\n",
      "\u001b[34m\u001b[1mTensorRT:\u001b[0m starting export with TensorRT 10.3.0...\n",
      "\u001b[34m\u001b[1mTensorRT:\u001b[0m collecting INT8 calibration images from 'data=../cali_dataset/cali_data.yaml'\n",
      "Fast image access ✅ (ping: 0.0±0.0 ms, read: 234.2±65.6 MB/s, size: 12.7 KB)\n",
      "\u001b[KScanning /home/wonmin/project/hand_keypoints/cali_dataset/labels.cache... 50 images, 0 backgrounds, 2 corrupt: 100% ━━━━━━━━━━━━ 50/50 28934.2it/s 0.0s0s\n",
      "/home/wonmin/project/hand_keypoints/cali_dataset/images/IMG_00019284.jpg: ignoring corrupt image/label: non-normalized or out of bounds coordinates [     1.0245]\n",
      "/home/wonmin/project/hand_keypoints/cali_dataset/images/IMG_00034950.jpg: ignoring corrupt image/label: non-normalized or out of bounds coordinates [     1.0261]\n",
      "WARNING ⚠️ \u001b[34m\u001b[1mTensorRT:\u001b[0m >300 images recommended for INT8 calibration, found 48 images.\n",
      "[08/28/2025-11:55:17] [TRT] [I] [MemUsageChange] Init CUDA: CPU +2, GPU +0, now: CPU 751, GPU 4893 (MiB)\n",
      "[08/28/2025-11:55:21] [TRT] [I] [MemUsageChange] Init builder kernel library: CPU +927, GPU +1057, now: CPU 1721, GPU 5987 (MiB)\n",
      "[08/28/2025-11:55:21] [TRT] [I] ----------------------------------------------------------------\n",
      "[08/28/2025-11:55:21] [TRT] [I] Input filename:   yolo.onnx\n",
      "[08/28/2025-11:55:21] [TRT] [I] ONNX IR version:  0.0.9\n",
      "[08/28/2025-11:55:21] [TRT] [I] Opset version:    19\n",
      "[08/28/2025-11:55:21] [TRT] [I] Producer name:    pytorch\n",
      "[08/28/2025-11:55:21] [TRT] [I] Producer version: 2.8.0\n",
      "[08/28/2025-11:55:21] [TRT] [I] Domain:           \n",
      "[08/28/2025-11:55:21] [TRT] [I] Model version:    0\n",
      "[08/28/2025-11:55:21] [TRT] [I] Doc string:       \n",
      "[08/28/2025-11:55:21] [TRT] [I] ----------------------------------------------------------------\n",
      "\u001b[34m\u001b[1mTensorRT:\u001b[0m input \"images\" with shape(1, 3, 640, 640) DataType.FLOAT\n",
      "\u001b[34m\u001b[1mTensorRT:\u001b[0m output \"output0\" with shape(1, 68, 8400) DataType.FLOAT\n",
      "\u001b[34m\u001b[1mTensorRT:\u001b[0m building INT8 engine as yolo.engine\n",
      "[08/28/2025-11:55:21] [TRT] [I] Perform graph optimization on calibration graph.\n",
      "[08/28/2025-11:55:21] [TRT] [I] Local timing cache in use. Profiling results in this builder pass will not be stored.\n",
      "[08/28/2025-11:55:30] [TRT] [I] Detected 1 inputs and 4 output network tensors.\n",
      "[08/28/2025-11:55:38] [TRT] [I] Total Host Persistent Memory: 484320\n",
      "[08/28/2025-11:55:38] [TRT] [I] Total Device Persistent Memory: 1201664\n",
      "[08/28/2025-11:55:38] [TRT] [I] Total Scratch Memory: 4608\n",
      "[08/28/2025-11:55:38] [TRT] [I] [BlockAssignment] Started assigning block shifts. This will take 395 steps to complete.\n",
      "[08/28/2025-11:55:39] [TRT] [I] [BlockAssignment] Algorithm ShiftNTopDown took 150.78ms to assign 18 blocks to 395 nodes requiring 29064192 bytes.\n",
      "[08/28/2025-11:55:39] [TRT] [I] Total Activation Memory: 29064192\n",
      "[08/28/2025-11:55:39] [TRT] [I] Total Weights Memory: 15681088\n",
      "[08/28/2025-11:55:39] [TRT] [I] Engine generation completed in 17.5998 seconds.\n",
      "[08/28/2025-11:55:39] [TRT] [I] [MemUsageChange] TensorRT-managed allocation in IExecutionContext creation: CPU +0, GPU +29, now: CPU 0, GPU 46 (MiB)\n",
      "[08/28/2025-11:55:39] [TRT] [I] Starting Calibration.\n",
      "[08/28/2025-11:55:40] [TRT] [I]   Calibrated batch 0 in 0.706623 seconds.\n",
      "[08/28/2025-11:55:40] [TRT] [I]   Calibrated batch 1 in 0.776707 seconds.\n",
      "[08/28/2025-11:55:41] [TRT] [I]   Calibrated batch 2 in 0.656668 seconds.\n",
      "[08/28/2025-11:55:42] [TRT] [I]   Calibrated batch 3 in 0.750475 seconds.\n",
      "[08/28/2025-11:55:43] [TRT] [I]   Calibrated batch 4 in 0.661386 seconds.\n",
      "[08/28/2025-11:55:43] [TRT] [I]   Calibrated batch 5 in 0.671868 seconds.\n",
      "[08/28/2025-11:55:44] [TRT] [I]   Calibrated batch 6 in 0.634152 seconds.\n",
      "[08/28/2025-11:55:45] [TRT] [I]   Calibrated batch 7 in 0.683674 seconds.\n",
      "[08/28/2025-11:55:45] [TRT] [I]   Calibrated batch 8 in 0.66933 seconds.\n",
      "[08/28/2025-11:55:46] [TRT] [I]   Calibrated batch 9 in 0.658799 seconds.\n",
      "[08/28/2025-11:55:47] [TRT] [I]   Calibrated batch 10 in 0.651019 seconds.\n",
      "[08/28/2025-11:55:48] [TRT] [I]   Calibrated batch 11 in 0.692174 seconds.\n",
      "[08/28/2025-11:55:48] [TRT] [I]   Calibrated batch 12 in 0.67051 seconds.\n",
      "[08/28/2025-11:55:49] [TRT] [I]   Calibrated batch 13 in 0.66501 seconds.\n",
      "[08/28/2025-11:55:50] [TRT] [I]   Calibrated batch 14 in 0.632638 seconds.\n",
      "[08/28/2025-11:55:50] [TRT] [I]   Calibrated batch 15 in 0.668347 seconds.\n",
      "[08/28/2025-11:55:51] [TRT] [I]   Calibrated batch 16 in 0.622024 seconds.\n",
      "[08/28/2025-11:55:52] [TRT] [I]   Calibrated batch 17 in 0.61931 seconds.\n",
      "[08/28/2025-11:55:52] [TRT] [I]   Calibrated batch 18 in 0.660313 seconds.\n",
      "[08/28/2025-11:55:53] [TRT] [I]   Calibrated batch 19 in 0.664729 seconds.\n",
      "[08/28/2025-11:55:54] [TRT] [I]   Calibrated batch 20 in 0.525635 seconds.\n",
      "[08/28/2025-11:55:54] [TRT] [I]   Calibrated batch 21 in 0.586915 seconds.\n",
      "[08/28/2025-11:55:55] [TRT] [I]   Calibrated batch 22 in 0.539538 seconds.\n",
      "[08/28/2025-11:55:55] [TRT] [I]   Calibrated batch 23 in 0.564403 seconds.\n",
      "[08/28/2025-11:55:56] [TRT] [I]   Calibrated batch 24 in 0.585499 seconds.\n",
      "[08/28/2025-11:55:57] [TRT] [I]   Calibrated batch 25 in 0.555918 seconds.\n",
      "[08/28/2025-11:55:57] [TRT] [I]   Calibrated batch 26 in 0.514531 seconds.\n",
      "[08/28/2025-11:55:58] [TRT] [I]   Calibrated batch 27 in 0.550654 seconds.\n",
      "[08/28/2025-11:55:58] [TRT] [I]   Calibrated batch 28 in 0.553828 seconds.\n",
      "[08/28/2025-11:55:59] [TRT] [I]   Calibrated batch 29 in 0.589843 seconds.\n",
      "[08/28/2025-11:55:59] [TRT] [I]   Calibrated batch 30 in 0.57316 seconds.\n",
      "[08/28/2025-11:56:00] [TRT] [I]   Calibrated batch 31 in 0.573984 seconds.\n",
      "[08/28/2025-11:56:01] [TRT] [I]   Calibrated batch 32 in 0.516098 seconds.\n",
      "[08/28/2025-11:56:01] [TRT] [I]   Calibrated batch 33 in 0.572903 seconds.\n",
      "[08/28/2025-11:56:02] [TRT] [I]   Calibrated batch 34 in 0.535209 seconds.\n",
      "[08/28/2025-11:56:02] [TRT] [I]   Calibrated batch 35 in 0.599415 seconds.\n",
      "[08/28/2025-11:56:03] [TRT] [I]   Calibrated batch 36 in 0.592189 seconds.\n",
      "[08/28/2025-11:56:04] [TRT] [I]   Calibrated batch 37 in 0.558049 seconds.\n",
      "[08/28/2025-11:56:04] [TRT] [I]   Calibrated batch 38 in 0.558229 seconds.\n",
      "[08/28/2025-11:56:05] [TRT] [I]   Calibrated batch 39 in 0.562328 seconds.\n",
      "[08/28/2025-11:56:05] [TRT] [I]   Calibrated batch 40 in 0.616201 seconds.\n",
      "[08/28/2025-11:56:06] [TRT] [I]   Calibrated batch 41 in 0.553774 seconds.\n",
      "[08/28/2025-11:56:06] [TRT] [I]   Calibrated batch 42 in 0.56695 seconds.\n",
      "[08/28/2025-11:56:07] [TRT] [I]   Calibrated batch 43 in 0.551473 seconds.\n",
      "[08/28/2025-11:56:08] [TRT] [I]   Calibrated batch 44 in 0.575918 seconds.\n",
      "[08/28/2025-11:56:08] [TRT] [I]   Calibrated batch 45 in 0.566443 seconds.\n",
      "[08/28/2025-11:56:09] [TRT] [I]   Calibrated batch 46 in 0.560923 seconds.\n",
      "[08/28/2025-11:56:09] [TRT] [I]   Calibrated batch 47 in 0.591585 seconds.\n",
      "[08/28/2025-11:56:09] [TRT] [I]   Post Processing Calibration data in 0.00584031 seconds.\n",
      "[08/28/2025-11:56:09] [TRT] [I] Calibration completed in 48.4278 seconds.\n",
      "[08/28/2025-11:56:10] [TRT] [I] Writing Calibration Cache for calibrator: TRT-100300-MinMaxCalibration\n",
      "[08/28/2025-11:56:10] [TRT] [I] Local timing cache in use. Profiling results in this builder pass will not be stored.\n",
      "[08/28/2025-12:02:18] [TRT] [I] Detected 1 inputs and 4 output network tensors.\n",
      "[08/28/2025-12:03:11] [TRT] [I] Total Host Persistent Memory: 547456\n",
      "[08/28/2025-12:03:11] [TRT] [I] Total Device Persistent Memory: 0\n",
      "[08/28/2025-12:03:11] [TRT] [I] Total Scratch Memory: 0\n",
      "[08/28/2025-12:03:11] [TRT] [I] [BlockAssignment] Started assigning block shifts. This will take 142 steps to complete.\n",
      "[08/28/2025-12:03:11] [TRT] [I] [BlockAssignment] Algorithm ShiftNTopDown took 20.062ms to assign 9 blocks to 142 nodes requiring 12375552 bytes.\n",
      "[08/28/2025-12:03:11] [TRT] [I] Total Activation Memory: 12375040\n",
      "[08/28/2025-12:03:11] [TRT] [I] Total Weights Memory: 3380228\n",
      "[08/28/2025-12:03:11] [TRT] [I] Engine generation completed in 421.365 seconds.\n",
      "[08/28/2025-12:03:11] [TRT] [I] [MemUsageStats] Peak memory usage of TRT CPU/GPU memory allocators: CPU 10 MiB, GPU 140 MiB\n",
      "[08/28/2025-12:03:12] [TRT] [I] [MemUsageStats] Peak memory usage during Engine building and serialization: CPU: 2862 MiB\n",
      "\u001b[34m\u001b[1mTensorRT:\u001b[0m export success ✅ 483.5s, saved as 'yolo.engine' (5.9 MB)\n",
      "\n",
      "Export complete (485.6s)\n",
      "Results saved to \u001b[1m/home/wonmin/project/hand_keypoints/yolo_inference\u001b[0m\n",
      "Predict:         yolo predict task=pose model=yolo.engine imgsz=640 int8 \n",
      "Validate:        yolo val task=pose model=yolo.engine imgsz=640 data=/usr/local/lib/python3.11/dist-packages/ultralytics/cfg/datasets/hand-keypoints.yaml int8 \n",
      "Visualize:       https://netron.app\n"
     ]
    }
   ],
   "source": [
    "from ultralytics import YOLO\n",
    "import torch\n",
    "import os\n",
    "\n",
    "print(torch.__version__, \"cuda:\", torch.cuda.is_available())\n",
    "\n",
    "#make ft16 tensorrt file\n",
    "model = YOLO(\"yolo.pt\", task=\"pose\")\n",
    "model.export(format=\"engine\", int8=True, data=\"../cali_dataset/cali_data.yaml\")\n",
    "\n",
    "os.rename(\"yolo.onnx\", \"yolo_int8_onnx\")\n",
    "os.rename(\"yolo.engine\", \"yolo_int8.engine\")\n"
   ]
  },
  {
   "cell_type": "code",
   "execution_count": 1,
   "metadata": {},
   "outputs": [
    {
     "name": "stdout",
     "output_type": "stream",
     "text": [
      " * Serving Flask app '__main__'\n",
      " * Debug mode: off\n"
     ]
    },
    {
     "name": "stderr",
     "output_type": "stream",
     "text": [
      "WARNING: This is a development server. Do not use it in a production deployment. Use a production WSGI server instead.\n",
      " * Running on all addresses (0.0.0.0)\n",
      " * Running on http://127.0.0.1:8000\n",
      " * Running on http://172.30.1.50:8000\n",
      "Press CTRL+C to quit\n"
     ]
    },
    {
     "name": "stdout",
     "output_type": "stream",
     "text": [
      "Loading yolo_int8.engine for TensorRT inference...\n",
      "[08/28/2025-16:24:53] [TRT] [I] Loaded engine size: 5 MiB\n",
      "[08/28/2025-16:24:53] [TRT] [I] [MemUsageChange] TensorRT-managed allocation in IExecutionContext creation: CPU +0, GPU +12, now: CPU 0, GPU 15 (MiB)\n"
     ]
    },
    {
     "name": "stderr",
     "output_type": "stream",
     "text": [
      "172.30.1.93 - - [28/Aug/2025 16:24:55] \"GET / HTTP/1.1\" 200 -\n"
     ]
    }
   ],
   "source": [
    "from flask import Flask, Response\n",
    "from ultralytics import YOLO\n",
    "import cv2\n",
    "\n",
    "# YOLO 모델 불러오기 (best.pt or .engine 가능)\n",
    "model = YOLO(\"yolo_int8.engine\", task=\"pose\")\n",
    "\n",
    "c_index = 1 #Camera index can be changed\n",
    "\n",
    "cap = cv2.VideoCapture(c_index) \n",
    "assert cap.isOpened(), \"Camera open failed.\"\n",
    "\n",
    "app = Flask(__name__)\n",
    "\n",
    "def gen_frames():\n",
    "    while True:\n",
    "        ret, frame = cap.read() \n",
    "        if not ret:\n",
    "            break\n",
    "\n",
    "        # YOLO inference\n",
    "        results = model.predict(source=frame, imgsz=640,verbose=False)\n",
    "        annotated = results[0].plot()  # draw inference results\n",
    "\n",
    "        # JPEG encoding\n",
    "        ret, buffer = cv2.imencode('.jpg', annotated)\n",
    "        if not ret:\n",
    "            continue #If encoding is failed, skip\n",
    "\n",
    "        # MJPEG streaming: MJPEG = Motion JPEG\n",
    "        yield (b'--frame\\r\\n'\n",
    "               b'Content-Type: image/jpeg\\r\\n\\r\\n' + buffer.tobytes() + b'\\r\\n')\n",
    "\n",
    "@app.route('/')\n",
    "def video_feed():\n",
    "    return Response(gen_frames(), mimetype='multipart/x-mixed-replace; boundary=frame')\n",
    "\n",
    "if __name__ == \"__main__\":\n",
    "    try:\n",
    "        app.run(host=\"0.0.0.0\", port=8000, debug=False, use_reloader=False)\n",
    "    finally:\n",
    "        cap.release()\n",
    "        cv2.destroyAllWindows()\n"
   ]
  },
  {
   "cell_type": "code",
   "execution_count": null,
   "metadata": {},
   "outputs": [],
   "source": []
  },
  {
   "cell_type": "code",
   "execution_count": null,
   "metadata": {},
   "outputs": [],
   "source": []
  }
 ],
 "metadata": {
  "kernelspec": {
   "display_name": "venv",
   "language": "python",
   "name": "python3"
  },
  "language_info": {
   "codemirror_mode": {
    "name": "ipython",
    "version": 3
   },
   "file_extension": ".py",
   "mimetype": "text/x-python",
   "name": "python",
   "nbconvert_exporter": "python",
   "pygments_lexer": "ipython3",
   "version": "3.10.12"
  }
 },
 "nbformat": 4,
 "nbformat_minor": 2
}
