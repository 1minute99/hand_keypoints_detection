{
 "cells": [
  {
   "cell_type": "code",
   "execution_count": null,
   "metadata": {},
   "outputs": [],
   "source": [
    "# Check device number\n",
    "!ls -ltrh /dev/video*"
   ]
  },
  {
   "cell_type": "code",
   "execution_count": 2,
   "metadata": {},
   "outputs": [],
   "source": [
    "# # --------------\n",
    "# # Camera test\n",
    "# # --------------\n",
    "\n",
    "# import cv2, time\n",
    "# from IPython.display import display, clear_output\n",
    "# from PIL import Image\n",
    "\n",
    "# cap = cv2.VideoCapture(0, cv2.CAP_V4L2)  # /dev/video0\n",
    "# cap.set(cv2.CAP_PROP_FRAME_WIDTH, 640)\n",
    "# cap.set(cv2.CAP_PROP_FRAME_HEIGHT, 480)\n",
    "# cap.set(cv2.CAP_PROP_FPS, 30)\n",
    "\n",
    "# for _ in range(100):  # 100프레임만 테스트\n",
    "#     ok, frame = cap.read()\n",
    "#     if not ok: \n",
    "#         print(\"프레임 읽기 실패\"); break\n",
    "#     rgb = cv2.cvtColor(frame, cv2.COLOR_BGR2RGB)\n",
    "#     clear_output(wait=True)\n",
    "#     display(Image.fromarray(rgb))\n",
    "\n",
    "# cap.release()\n"
   ]
  },
  {
   "cell_type": "code",
   "execution_count": null,
   "metadata": {},
   "outputs": [],
   "source": [
    "from flask import Flask, Response\n",
    "from ultralytics import YOLO\n",
    "import cv2\n",
    "\n",
    "# YOLO 모델 불러오기 (best.pt or .engine 가능)\n",
    "model = YOLO(\"best.pt\")\n",
    "\n",
    "c_index = 1 #Camera index can be changed\n",
    "\n",
    "cap = cv2.VideoCapture(c_index) \n",
    "assert cap.isOpened(), \"Camera open failed.\"\n",
    "\n",
    "app = Flask(__name__)\n",
    "\n",
    "def gen_frames():\n",
    "    while True:\n",
    "        ret, frame = cap.read() \n",
    "        if not ret:\n",
    "            break\n",
    "\n",
    "        # YOLO inference\n",
    "        results = model.predict(source=frame, imgsz=640, verbose=False)\n",
    "        annotated = results[0].plot()  # draw inference results\n",
    "\n",
    "        # JPEG encoding\n",
    "        ret, buffer = cv2.imencode('.jpg', annotated)\n",
    "        if not ret:\n",
    "            continue #If encoding is failed, skip\n",
    "\n",
    "        # MJPEG streaming: MJPEG = Motion JPEG\n",
    "        yield (b'--frame\\r\\n'\n",
    "               b'Content-Type: image/jpeg\\r\\n\\r\\n' + buffer.tobytes() + b'\\r\\n')\n",
    "\n",
    "@app.route('/')\n",
    "def video_feed():\n",
    "    return Response(gen_frames(), mimetype='multipart/x-mixed-replace; boundary=frame')\n",
    "\n",
    "if __name__ == \"__main__\":\n",
    "    try:\n",
    "        app.run(host=\"0.0.0.0\", port=8000, debug=False, use_reloader=False)\n",
    "    finally:\n",
    "        cap.release()\n",
    "        cv2.destroyAllWindows()\n"
   ]
  },
  {
   "cell_type": "code",
   "execution_count": null,
   "metadata": {},
   "outputs": [],
   "source": []
  }
 ],
 "metadata": {
  "kernelspec": {
   "display_name": "venv",
   "language": "python",
   "name": "python3"
  },
  "language_info": {
   "codemirror_mode": {
    "name": "ipython",
    "version": 3
   },
   "file_extension": ".py",
   "mimetype": "text/x-python",
   "name": "python",
   "nbconvert_exporter": "python",
   "pygments_lexer": "ipython3",
   "version": "3.10.12"
  }
 },
 "nbformat": 4,
 "nbformat_minor": 2
}
